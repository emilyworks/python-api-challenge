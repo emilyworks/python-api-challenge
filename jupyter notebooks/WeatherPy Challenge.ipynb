{
 "cells": [
  {
   "cell_type": "markdown",
   "metadata": {},
   "source": [
    "# WeatherPy\n",
    "----\n",
    "\n",
    "#### Note\n",
    "* Instructions have been included for each segment. You do not have to follow them exactly, but they are included to help you think through the steps."
   ]
  },
  {
   "cell_type": "code",
   "execution_count": 1,
   "metadata": {
    "scrolled": true
   },
   "outputs": [],
   "source": [
    "# Dependencies and Setup\n",
    "import matplotlib.pyplot as plt\n",
    "import pandas as pd\n",
    "import numpy as np\n",
    "import requests\n",
    "import time\n",
    "from pprint import pprint\n",
    "from scipy.stats import linregress\n",
    "\n",
    "# Import API key\n",
    "from api_keys import weather_api_key\n",
    "\n",
    "# Incorporated citipy to determine city based on latitude and longitude\n",
    "from citipy import citipy\n",
    "\n",
    "# Output File (CSV)\n",
    "output_data_file = \"output_data/cities.csv\"\n",
    "\n",
    "# Range of latitudes and longitudes\n",
    "lat_range = (-90, 90)\n",
    "lng_range = (-180, 180)"
   ]
  },
  {
   "cell_type": "markdown",
   "metadata": {},
   "source": [
    "## Generate Cities List"
   ]
  },
  {
   "cell_type": "code",
   "execution_count": 2,
   "metadata": {},
   "outputs": [
    {
     "data": {
      "text/plain": [
       "614"
      ]
     },
     "execution_count": 2,
     "metadata": {},
     "output_type": "execute_result"
    }
   ],
   "source": [
    "# List for holding lat_lngs and cities\n",
    "lat_lngs = []\n",
    "cities = []\n",
    "\n",
    "# Create a set of random lat and lng combinations\n",
    "lats = np.random.uniform(lat_range[0], lat_range[1], size=1500)\n",
    "lngs = np.random.uniform(lng_range[0], lng_range[1], size=1500)\n",
    "lat_lngs = zip(lats, lngs)\n",
    "\n",
    "# Identify nearest city for each lat, lng combination\n",
    "for lat_lng in lat_lngs:\n",
    "    city = citipy.nearest_city(lat_lng[0], lat_lng[1]).city_name\n",
    "    \n",
    "    # If the city is unique, then add it to a our cities list\n",
    "    if city not in cities:\n",
    "        cities.append(city)\n",
    "\n",
    "# Print the city count to confirm sufficient count\n",
    "len(cities)\n"
   ]
  },
  {
   "cell_type": "markdown",
   "metadata": {},
   "source": [
    "### Perform API Calls\n",
    "* Perform a weather check on each city using a series of successive API calls.\n",
    "* Include a print log of each city as it'sbeing processed (with the city number and city name).\n"
   ]
  },
  {
   "cell_type": "code",
   "execution_count": 3,
   "metadata": {
    "scrolled": true
   },
   "outputs": [
    {
     "name": "stdout",
     "output_type": "stream",
     "text": [
      "Processing...busselton, number 1\n",
      "Processing...svetlyy, number 2\n",
      "Processing...barentsburg, number 3\n",
      "Processing...cervo, number 4\n",
      "Processing...ushuaia, number 5\n",
      "Processing...rikitea, number 6\n",
      "Processing...cidreira, number 7\n",
      "Processing...nizhneyansk, number 8\n",
      "Processing...atuona, number 9\n",
      "Processing...hamilton, number 10\n",
      "Processing...san patricio, number 11\n",
      "Processing...bria, number 12\n",
      "Processing...mar del plata, number 13\n",
      "Processing...clyde river, number 14\n",
      "Processing...geraldton, number 15\n",
      "Processing...airai, number 16\n",
      "Processing...necochea, number 17\n",
      "Processing...isangel, number 18\n",
      "Processing...the pas, number 19\n",
      "Processing...albany, number 20\n",
      "Processing...cabras, number 21\n",
      "Processing...nanortalik, number 22\n",
      "Processing...longyearbyen, number 23\n",
      "Processing...tasiilaq, number 24\n",
      "Processing...margate, number 25\n",
      "Processing...cape town, number 26\n",
      "Processing...buala, number 27\n",
      "Processing...xam nua, number 28\n",
      "Processing...punta arenas, number 29\n",
      "Processing...maumere, number 30\n",
      "Processing...lagunas, number 31\n",
      "Processing...guerrero negro, number 32\n",
      "Processing...pokrovsk-uralskiy, number 33\n",
      "Processing...vaitupu, number 34\n",
      "Processing...karwar, number 35\n",
      "Processing...mount gambier, number 36\n",
      "Processing...brae, number 37\n",
      "Processing...calama, number 38\n",
      "Processing...new norfolk, number 39\n",
      "Processing...qaanaaq, number 40\n",
      "Processing...mys shmidta, number 41\n",
      "Processing...shingu, number 42\n",
      "Processing...saint-augustin, number 43\n",
      "Processing...saldanha, number 44\n",
      "Processing...norman wells, number 45\n",
      "Processing...ostrovnoy, number 46\n",
      "Processing...piacabucu, number 47\n",
      "Processing...kodiak, number 48\n",
      "Processing...hobart, number 49\n",
      "Processing...xingcheng, number 50\n",
      "Processing...malpe, number 51\n",
      "Processing...kahului, number 52\n",
      "Processing...half moon bay, number 53\n",
      "Processing...vaini, number 54\n",
      "Processing...buraydah, number 55\n",
      "Processing...aklavik, number 56\n",
      "Processing...bokspits, number 57\n",
      "Processing...kushmurun, number 58\n",
      "Processing...bubaque, number 59\n",
      "Processing...anadyr, number 60\n",
      "Processing...leningradskiy, number 61\n",
      "Processing...arraial do cabo, number 62\n",
      "Processing...verkhnyaya balkariya, number 63\n",
      "Processing...san vicente, number 64\n",
      "Processing...katsuura, number 65\n",
      "Processing...mataura, number 66\n",
      "Processing...ugoofaaru, number 67\n",
      "Processing...warqla, number 68\n",
      "Processing...hualmay, number 69\n",
      "Processing...port blair, number 70\n",
      "Processing...thompson, number 71\n",
      "Processing...port alfred, number 72\n",
      "Processing...luderitz, number 73\n",
      "Processing...mareeba, number 74\n",
      "Processing...letka, number 75\n",
      "Processing...olafsvik, number 76\n",
      "Processing...cherskiy, number 77\n",
      "Processing...tarrafal, number 78\n",
      "Processing...muisne, number 79\n",
      "Processing...menongue, number 80\n",
      "Processing...sumbawa, number 81\n",
      "Processing...kununurra, number 82\n",
      "Processing...qasigiannguit, number 83\n",
      "Processing...toora-khem, number 84\n",
      "Processing...urumqi, number 85\n",
      "Processing...khetia, number 86\n",
      "Processing...lavrentiya, number 87\n",
      "Processing...bluff, number 88\n",
      "Processing...kruisfontein, number 89\n",
      "Processing...kavieng, number 90\n",
      "Processing...amderma, number 91\n",
      "Processing...puerto ayora, number 92\n",
      "Processing...lesnyye polyany, number 93\n",
      "Processing...kapaa, number 94\n",
      "Processing...meulaboh, number 95\n",
      "Processing...birjand, number 96\n",
      "Processing...gizo, number 97\n",
      "Processing...iqaluit, number 98\n",
      "Processing...upernavik, number 99\n",
      "Processing...maltahohe, number 100\n",
      "Processing...pevek, number 101\n",
      "Processing...barrow, number 102\n",
      "Processing...kaitangata, number 103\n",
      "Processing...mahebourg, number 104\n",
      "Processing...alofi, number 105\n",
      "Processing...pisco, number 106\n",
      "Processing...kitimat, number 107\n",
      "Processing...agadez, number 108\n",
      "Processing...taolanaro, number 109\n",
      "Processing...witrivier, number 110\n",
      "Processing...sarny, number 111\n",
      "Processing...beloha, number 112\n",
      "Processing...kutum, number 113\n",
      "Processing...illoqqortoormiut, number 114\n",
      "Processing...cabo san lucas, number 115\n",
      "Processing...bredasdorp, number 116\n",
      "Processing...jumla, number 117\n",
      "Processing...georgetown, number 118\n",
      "Processing...yellowknife, number 119\n",
      "Processing...tumannyy, number 120\n",
      "Processing...farmington, number 121\n",
      "Processing...batemans bay, number 122\n",
      "Processing...nikolskoye, number 123\n",
      "Processing...netarhat, number 124\n",
      "Processing...belushya guba, number 125\n",
      "Processing...bengkulu, number 126\n",
      "Processing...aurillac, number 127\n",
      "Processing...karkaralinsk, number 128\n",
      "Processing...port macquarie, number 129\n",
      "Processing...east london, number 130\n",
      "Processing...ust-tsilma, number 131\n",
      "Processing...nizhnyaya tavda, number 132\n",
      "Processing...petropavlovka, number 133\n",
      "Processing...avarua, number 134\n",
      "Processing...hilo, number 135\n",
      "Processing...beruwala, number 136\n",
      "Processing...banchory, number 137\n",
      "Processing...castro, number 138\n",
      "Processing...yulara, number 139\n",
      "Processing...arman, number 140\n",
      "Processing...saint george, number 141\n",
      "Processing...lagoa, number 142\n",
      "Processing...torbay, number 143\n",
      "Processing...laguna, number 144\n",
      "Processing...high level, number 145\n",
      "Processing...te anau, number 146\n",
      "Processing...tudela, number 147\n",
      "Processing...san cristobal, number 148\n",
      "Processing...salalah, number 149\n",
      "Processing...christchurch, number 150\n",
      "Processing...turukhansk, number 151\n",
      "Processing...ponta do sol, number 152\n",
      "Processing...viedma, number 153\n",
      "Processing...grand river south east, number 154\n",
      "Processing...ust-kamchatsk, number 155\n",
      "Processing...vardo, number 156\n",
      "Processing...talnakh, number 157\n",
      "Processing...kangaatsiaq, number 158\n",
      "Processing...longkou, number 159\n",
      "Processing...tura, number 160\n",
      "Processing...rock springs, number 161\n",
      "Processing...healesville, number 162\n",
      "Processing...kampong thum, number 163\n",
      "Processing...lata, number 164\n",
      "Processing...saint-philippe, number 165\n",
      "Processing...port hardy, number 166\n",
      "Processing...tacna, number 167\n",
      "Processing...puerto del rosario, number 168\n",
      "Processing...los llanos de aridane, number 169\n",
      "Processing...marawi, number 170\n",
      "Processing...yanam, number 171\n",
      "Processing...sao filipe, number 172\n",
      "Processing...carnarvon, number 173\n",
      "Processing...carauari, number 174\n",
      "Processing...una, number 175\n",
      "Processing...ribeira grande, number 176\n",
      "Processing...puerto plata, number 177\n",
      "Processing...carutapera, number 178\n",
      "Processing...tiksi, number 179\n",
      "Processing...berlevag, number 180\n",
      "Processing...puerto carreno, number 181\n",
      "Processing...lao cai, number 182\n",
      "Processing...fevralsk, number 183\n",
      "Processing...bethel, number 184\n",
      "Processing...rolim de moura, number 185\n",
      "Processing...sumbe, number 186\n",
      "Processing...touros, number 187\n",
      "Processing...angoche, number 188\n",
      "Processing...bardiyah, number 189\n",
      "Processing...sentyabrskiy, number 190\n",
      "Processing...pirajui, number 191\n",
      "Processing...samusu, number 192\n",
      "Processing...mbandaka, number 193\n",
      "Processing...saint anthony, number 194\n",
      "Processing...vila velha, number 195\n",
      "Processing...abu jubayhah, number 196\n",
      "Processing...west wendover, number 197\n",
      "Processing...miles city, number 198\n",
      "Processing...taburi, number 199\n",
      "Processing...la rioja, number 200\n",
      "Processing...zhanaozen, number 201\n",
      "Processing...husavik, number 202\n",
      "Processing...chuy, number 203\n",
      "Processing...inhambane, number 204\n",
      "Processing...poum, number 205\n",
      "Processing...khasan, number 206\n",
      "Processing...treinta y tres, number 207\n",
      "Processing...phangnga, number 208\n",
      "Processing...stoyba, number 209\n",
      "Processing...russell, number 210\n",
      "Processing...warrington, number 211\n",
      "Processing...provideniya, number 212\n",
      "Processing...atbasar, number 213\n",
      "Processing...joshimath, number 214\n",
      "Processing...grand gaube, number 215\n",
      "Processing...saint-joseph, number 216\n",
      "Processing...krutinka, number 217\n",
      "Processing...juifang, number 218\n",
      "Processing...muhororo, number 219\n",
      "Processing...vestbygda, number 220\n",
      "Processing...yakeshi, number 221\n",
      "Processing...bambous virieux, number 222\n",
      "Processing...severo-kurilsk, number 223\n",
      "Processing...danshui, number 224\n",
      "Processing...victoria, number 225\n",
      "Processing...yatou, number 226\n",
      "Processing...vao, number 227\n",
      "Processing...ust-nera, number 228\n",
      "Processing...jamestown, number 229\n",
      "Processing...codrington, number 230\n",
      "Processing...namuac, number 231\n",
      "Processing...belyy yar, number 232\n",
      "Processing...tuatapere, number 233\n",
      "Processing...yazman, number 234\n",
      "Processing...mandalgovi, number 235\n",
      "Processing...mataram, number 236\n",
      "Processing...ksenyevka, number 237\n",
      "Processing...attawapiskat, number 238\n",
      "Processing...aswan, number 239\n",
      "Processing...wahran, number 240\n"
     ]
    },
    {
     "name": "stdout",
     "output_type": "stream",
     "text": [
      "Processing...najran, number 241\n",
      "Processing...eureka, number 242\n",
      "Processing...bakuriani, number 243\n",
      "Processing...korla, number 244\n",
      "Processing...saint-marc-des-carrieres, number 245\n",
      "Processing...cavalcante, number 246\n",
      "Processing...moose factory, number 247\n",
      "Processing...esperance, number 248\n",
      "Processing...nadvoitsy, number 249\n",
      "Processing...tuktoyaktuk, number 250\n",
      "Processing...forssa, number 251\n",
      "Processing...yirol, number 252\n",
      "Processing...vrangel, number 253\n",
      "Processing...faanui, number 254\n",
      "Processing...dunedin, number 255\n",
      "Processing...roald, number 256\n",
      "Processing...san andres, number 257\n",
      "Processing...dikson, number 258\n",
      "Processing...naze, number 259\n",
      "Processing...broome, number 260\n",
      "Processing...khani, number 261\n",
      "Processing...san quintin, number 262\n",
      "Processing...tivaouane, number 263\n",
      "Processing...dongsheng, number 264\n",
      "Processing...sovetskiy, number 265\n",
      "Processing...kampene, number 266\n",
      "Processing...puerto ayacucho, number 267\n",
      "Processing...nikel, number 268\n",
      "Processing...fabiansebestyen, number 269\n",
      "Processing...baijiantan, number 270\n",
      "Processing...valdivia, number 271\n",
      "Processing...sweetwater, number 272\n",
      "Processing...marrakesh, number 273\n",
      "Processing...port moresby, number 274\n",
      "Processing...grindavik, number 275\n",
      "Processing...nome, number 276\n",
      "Processing...fairbanks, number 277\n",
      "Processing...rocha, number 278\n",
      "Processing...yarada, number 279\n",
      "Processing...hermanus, number 280\n",
      "Processing...yerbogachen, number 281\n",
      "Processing...nouadhibou, number 282\n",
      "Processing...skorodnoye, number 283\n",
      "Processing...ohaeawai, number 284\n",
      "Processing...panjab, number 285\n",
      "Processing...cockburn town, number 286\n",
      "Processing...asau, number 287\n",
      "Processing...souillac, number 288\n",
      "Processing...gobabis, number 289\n",
      "Processing...adrar, number 290\n",
      "Processing...zhucheng, number 291\n",
      "Processing...qui nhon, number 292\n",
      "Processing...kartuzy, number 293\n",
      "Processing...constitucion, number 294\n",
      "Processing...bolungarvik, number 295\n",
      "Processing...tsihombe, number 296\n",
      "Processing...quimper, number 297\n",
      "Processing...tahoua, number 298\n",
      "Processing...trincomalee, number 299\n",
      "Processing...bukama, number 300\n",
      "Processing...lorengau, number 301\n",
      "Processing...kijang, number 302\n",
      "Processing...drayton valley, number 303\n",
      "Processing...rafaela, number 304\n",
      "Processing...eskasem, number 305\n",
      "Processing...marathopolis, number 306\n",
      "Processing...vuktyl, number 307\n",
      "Processing...sorvag, number 308\n",
      "Processing...kearney, number 309\n",
      "Processing...dinskaya, number 310\n",
      "Processing...asyut, number 311\n",
      "Processing...butaritari, number 312\n",
      "Processing...staroshcherbinovskaya, number 313\n",
      "Processing...crisan, number 314\n",
      "Processing...port lincoln, number 315\n",
      "Processing...makakilo city, number 316\n",
      "Processing...eskil, number 317\n",
      "Processing...bumba, number 318\n",
      "Processing...honiara, number 319\n",
      "Processing...bereda, number 320\n",
      "Processing...komsomolskiy, number 321\n",
      "Processing...mehamn, number 322\n",
      "Processing...yinchuan, number 323\n",
      "Processing...chernyshevskiy, number 324\n",
      "Processing...itoman, number 325\n",
      "Processing...faya, number 326\n",
      "Processing...sitka, number 327\n",
      "Processing...palabuhanratu, number 328\n",
      "Processing...teyateyaneng, number 329\n",
      "Processing...lebedinyy, number 330\n",
      "Processing...port elizabeth, number 331\n",
      "Processing...comodoro rivadavia, number 332\n",
      "Processing...barabinsk, number 333\n",
      "Processing...kavaratti, number 334\n",
      "Processing...barcelos, number 335\n",
      "Processing...sorong, number 336\n",
      "Processing...havre-saint-pierre, number 337\n",
      "Processing...santa vitoria, number 338\n",
      "Processing...oktyabrskoye, number 339\n",
      "Processing...mrirt, number 340\n",
      "Processing...zima, number 341\n",
      "Processing...karratha, number 342\n",
      "Processing...carmen, number 343\n",
      "Processing...andenes, number 344\n",
      "Processing...kendari, number 345\n",
      "Processing...nizhniy kuranakh, number 346\n",
      "Processing...biak, number 347\n",
      "Processing...byron bay, number 348\n",
      "Processing...port-gentil, number 349\n",
      "Processing...klaksvik, number 350\n",
      "Processing...great falls, number 351\n",
      "Processing...ayr, number 352\n",
      "Processing...nuuk, number 353\n",
      "Processing...prince rupert, number 354\n",
      "Processing...harper, number 355\n",
      "Processing...xuddur, number 356\n",
      "Processing...verkhoyansk, number 357\n",
      "Processing...khatanga, number 358\n",
      "Processing...skagastrond, number 359\n",
      "Processing...sankanan, number 360\n",
      "Processing...lokosovo, number 361\n",
      "Processing...saleaula, number 362\n",
      "Processing...rolandia, number 363\n",
      "Processing...peremyshlyany, number 364\n",
      "Processing...hirado, number 365\n",
      "Processing...taltal, number 366\n",
      "Processing...shiyan, number 367\n",
      "Processing...havelock, number 368\n",
      "Processing...teya, number 369\n",
      "Processing...bocaranga, number 370\n",
      "Processing...toamasina, number 371\n",
      "Processing...port keats, number 372\n",
      "Processing...ancud, number 373\n",
      "Processing...seoul, number 374\n",
      "Processing...santa cruz de la palma, number 375\n",
      "Processing...aranos, number 376\n",
      "Processing...chokurdakh, number 377\n",
      "Processing...kazalinsk, number 378\n",
      "Processing...ocampo, number 379\n",
      "Processing...itacoatiara, number 380\n",
      "Processing...palauig, number 381\n",
      "Processing...pitimbu, number 382\n",
      "Processing...port-cartier, number 383\n",
      "Processing...nemuro, number 384\n",
      "Processing...royan, number 385\n",
      "Processing...bintulu, number 386\n",
      "Processing...ada, number 387\n",
      "Processing...coquimbo, number 388\n",
      "Processing...jalingo, number 389\n",
      "Processing...egvekinot, number 390\n",
      "Processing...sataua, number 391\n",
      "Processing...aksu, number 392\n",
      "Processing...lebu, number 393\n",
      "Processing...poya, number 394\n",
      "Processing...raga, number 395\n",
      "Processing...bandarbeyla, number 396\n",
      "Processing...kaseda, number 397\n",
      "Processing...soyo, number 398\n",
      "Processing...tecoanapa, number 399\n",
      "Processing...tsaratanana, number 400\n",
      "Processing...saskylakh, number 401\n",
      "Processing...sagua de tanamo, number 402\n",
      "Processing...ilovlya, number 403\n",
      "Processing...borogontsy, number 404\n",
      "Processing...ulladulla, number 405\n",
      "Processing...acapulco, number 406\n",
      "Processing...tawkar, number 407\n",
      "Processing...jalu, number 408\n",
      "Processing...hit, number 409\n",
      "Processing...cerrito, number 410\n",
      "Processing...cienfuegos, number 411\n",
      "Processing...karpuninskiy, number 412\n",
      "Processing...umzimvubu, number 413\n",
      "Processing...muros, number 414\n",
      "Processing...nadym, number 415\n",
      "Processing...takhatgarh, number 416\n",
      "Processing...auki, number 417\n",
      "Processing...fort saint james, number 418\n",
      "Processing...ulaanbaatar, number 419\n",
      "Processing...maghama, number 420\n",
      "Processing...macaboboni, number 421\n",
      "Processing...kloulklubed, number 422\n",
      "Processing...ijaki, number 423\n",
      "Processing...huarmey, number 424\n",
      "Processing...taksimo, number 425\n",
      "Processing...krasnovishersk, number 426\n",
      "Processing...bonthe, number 427\n",
      "Processing...ipatovo, number 428\n",
      "Processing...sulangan, number 429\n",
      "Processing...primero de marzo, number 430\n",
      "Processing...cao bang, number 431\n",
      "Processing...jacareacanga, number 432\n",
      "Processing...abbotsford, number 433\n",
      "Processing...sistranda, number 434\n",
      "Processing...bilma, number 435\n",
      "Processing...merauke, number 436\n",
      "Processing...puerto narino, number 437\n",
      "Processing...mezen, number 438\n",
      "Processing...amazar, number 439\n",
      "Processing...narsaq, number 440\n",
      "Processing...areosa, number 441\n",
      "Processing...general roca, number 442\n",
      "Processing...conceicao do araguaia, number 443\n",
      "Processing...grand bank, number 444\n",
      "Processing...villaviciosa, number 445\n",
      "Processing...narasannapeta, number 446\n",
      "Processing...kamalasai, number 447\n",
      "Processing...walvis bay, number 448\n",
      "Processing...hasaki, number 449\n",
      "Processing...skeldon, number 450\n",
      "Processing...samarinda, number 451\n",
      "Processing...sambava, number 452\n",
      "Processing...hendijan, number 453\n",
      "Processing...kampong chhnang, number 454\n",
      "Processing...gerash, number 455\n",
      "Processing...bonnyville, number 456\n",
      "Processing...maymyo, number 457\n",
      "Processing...fortuna, number 458\n",
      "Processing...taoudenni, number 459\n",
      "Processing...chabahar, number 460\n",
      "Processing...arlit, number 461\n",
      "Processing...viligili, number 462\n",
      "Processing...sterling, number 463\n",
      "Processing...marinette, number 464\n",
      "Processing...hun, number 465\n",
      "Processing...lerwick, number 466\n",
      "Processing...hithadhoo, number 467\n",
      "Processing...volcan, number 468\n",
      "Processing...dali, number 469\n",
      "Processing...tekeli, number 470\n",
      "Processing...hobyo, number 471\n",
      "Processing...bayonne, number 472\n",
      "Processing...mangrol, number 473\n",
      "Processing...nimaparha, number 474\n",
      "Processing...vostok, number 475\n",
      "Processing...boyolangu, number 476\n",
      "Processing...visby, number 477\n",
      "Processing...meadow lake, number 478\n",
      "Processing...grand-santi, number 479\n"
     ]
    },
    {
     "name": "stdout",
     "output_type": "stream",
     "text": [
      "Processing...kilindoni, number 480\n",
      "Processing...abbeville, number 481\n",
      "Processing...baykit, number 482\n",
      "Processing...harindanga, number 483\n",
      "Processing...cunha, number 484\n",
      "Processing...hambantota, number 485\n",
      "Processing...bemidji, number 486\n",
      "Processing...papara, number 487\n",
      "Processing...kapit, number 488\n",
      "Processing...batticaloa, number 489\n",
      "Processing...darnah, number 490\n",
      "Processing...dudinka, number 491\n",
      "Processing...nancha, number 492\n",
      "Processing...bogande, number 493\n",
      "Processing...marcona, number 494\n",
      "Processing...coahuayana, number 495\n",
      "Processing...ippy, number 496\n",
      "Processing...trairi, number 497\n",
      "Processing...seydisehir, number 498\n",
      "Processing...moree, number 499\n",
      "Processing...fare, number 500\n",
      "Processing...la dorada, number 501\n",
      "Processing...miri, number 502\n",
      "Processing...morro bay, number 503\n",
      "Processing...richards bay, number 504\n",
      "Processing...sobolevo, number 505\n",
      "Processing...tautira, number 506\n",
      "Processing...atar, number 507\n",
      "Processing...lastoursville, number 508\n",
      "Processing...boundiali, number 509\n",
      "Processing...pitmoaga, number 510\n",
      "Processing...illapel, number 511\n",
      "Processing...magistralnyy, number 512\n",
      "Processing...valentin gomez farias, number 513\n",
      "Processing...aitape, number 514\n",
      "Processing...tombouctou, number 515\n",
      "Processing...ballina, number 516\n",
      "Processing...nizwa, number 517\n",
      "Processing...flinders, number 518\n",
      "Processing...kramat, number 519\n",
      "Processing...thunder bay, number 520\n",
      "Processing...ekibastuz, number 521\n",
      "Processing...malanje, number 522\n",
      "Processing...pinawa, number 523\n",
      "Processing...eatonton, number 524\n",
      "Processing...hay river, number 525\n",
      "Processing...lae, number 526\n",
      "Processing...sant feliu de guixols, number 527\n",
      "Processing...nishihara, number 528\n",
      "Processing...honningsvag, number 529\n",
      "Processing...pontal do parana, number 530\n",
      "Processing...tongling, number 531\n",
      "Processing...zvenigovo, number 532\n",
      "Processing...ingham, number 533\n",
      "Processing...praia, number 534\n",
      "Processing...odweyne, number 535\n",
      "Processing...poykovskiy, number 536\n",
      "Processing...saint-francois, number 537\n",
      "Processing...nikolsk, number 538\n",
      "Processing...shumikha, number 539\n",
      "Processing...francisco beltrao, number 540\n",
      "Processing...one hundred mile house, number 541\n",
      "Processing...ahipara, number 542\n",
      "Processing...galveston, number 543\n",
      "Processing...hirara, number 544\n",
      "Processing...solotcha, number 545\n",
      "Processing...dhidhdhoo, number 546\n",
      "Processing...altay, number 547\n",
      "Processing...alamogordo, number 548\n",
      "Processing...cayenne, number 549\n",
      "Processing...maniitsoq, number 550\n",
      "Processing...huilong, number 551\n",
      "Processing...gladstone, number 552\n",
      "Processing...samarai, number 553\n",
      "Processing...qibili, number 554\n",
      "Processing...ilhabela, number 555\n",
      "Processing...lakatoro, number 556\n",
      "Processing...barabai, number 557\n",
      "Processing...koidu, number 558\n",
      "Processing...shetpe, number 559\n",
      "Processing...boden, number 560\n",
      "Processing...aflu, number 561\n",
      "Processing...ketchikan, number 562\n",
      "Processing...hervey bay, number 563\n",
      "Processing...ayabe, number 564\n",
      "Processing...langxiang, number 565\n",
      "Processing...jaru, number 566\n",
      "Processing...igrim, number 567\n",
      "Processing...celestun, number 568\n",
      "Processing...sheboygan, number 569\n",
      "Processing...santa maria, number 570\n",
      "Processing...porbandar, number 571\n",
      "Processing...shelburne, number 572\n",
      "Processing...qaqortoq, number 573\n",
      "Processing...vaike-maarja, number 574\n",
      "Processing...khomeyn, number 575\n",
      "Processing...pechenga, number 576\n",
      "Processing...manacapuru, number 577\n",
      "Processing...acajutla, number 578\n",
      "Processing...gedo, number 579\n",
      "Processing...zhuhai, number 580\n",
      "Processing...road town, number 581\n",
      "Processing...klyuchi, number 582\n",
      "Processing...beyneu, number 583\n",
      "Processing...brindisi, number 584\n",
      "Processing...pierre, number 585\n",
      "Processing...itarema, number 586\n",
      "Processing...zyryanka, number 587\n",
      "Processing...sakakah, number 588\n",
      "Processing...gollere, number 589\n",
      "Processing...varna, number 590\n",
      "Processing...emba, number 591\n",
      "Processing...sao paulo de olivenca, number 592\n",
      "Processing...shieli, number 593\n",
      "Processing...marolambo, number 594\n",
      "Processing...flin flon, number 595\n",
      "Processing...kantabanji, number 596\n",
      "Processing...kulhudhuffushi, number 597\n",
      "Processing...ejido, number 598\n",
      "Processing...gland, number 599\n",
      "Processing...sao joao da barra, number 600\n",
      "Processing...shenzhen, number 601\n",
      "Processing...lompoc, number 602\n",
      "Processing...dzhebariki-khaya, number 603\n",
      "Processing...alberton, number 604\n",
      "Processing...sinnamary, number 605\n",
      "Processing...henties bay, number 606\n",
      "Processing...chulym, number 607\n",
      "Processing...san ignacio, number 608\n",
      "Processing...vestmannaeyjar, number 609\n",
      "Processing...orlik, number 610\n",
      "Processing...columbia, number 611\n",
      "Processing...zacualtipan, number 612\n",
      "Processing...gat, number 613\n",
      "Processing...dicabisagan, number 614\n"
     ]
    }
   ],
   "source": [
    "temp = []\n",
    "humidity = []\n",
    "cloudiness = []\n",
    "wind_speed = []\n",
    "lng = []\n",
    "lat = []\n",
    "date = []\n",
    "country = []\n",
    "\n",
    "x = 1\n",
    "\n",
    "for city in cities:\n",
    "    weather_url = \"http://api.openweathermap.org/data/2.5/weather?q=\" + city + \"&units=Imperial&appid=\" + weather_api_key\n",
    "    weather_request = requests.get(weather_url).json()\n",
    "    print(\"Processing...\" + str(city) + \", number \" + str(x))\n",
    "    try:\n",
    "        lng.append(weather_request[\"coord\"][\"lon\"])\n",
    "        lat.append(weather_request[\"coord\"][\"lat\"])\n",
    "        temp.append(weather_request[\"main\"][\"temp_max\"])\n",
    "        cloudiness.append(weather_request[\"clouds\"][\"all\"])\n",
    "        humidity.append(weather_request[\"main\"][\"humidity\"])\n",
    "        wind_speed.append(weather_request[\"wind\"][\"speed\"])\n",
    "        date.append(weather_request[\"dt\"])\n",
    "        country.append(weather_request[\"sys\"][\"country\"])\n",
    "    except:\n",
    "        lng.append(\"NaN\")\n",
    "        lat.append(\"NaN\")\n",
    "        temp.append(\"NaN\")\n",
    "        cloudiness.append(\"NaN\")\n",
    "        humidity.append(\"NaN\")\n",
    "        wind_speed.append(\"NaN\")\n",
    "        date.append(\"NaN\")\n",
    "        country.append(\"NaN\")\n",
    "   \n",
    "    x+=1"
   ]
  },
  {
   "cell_type": "code",
   "execution_count": 4,
   "metadata": {},
   "outputs": [
    {
     "data": {
      "text/plain": [
       "614"
      ]
     },
     "execution_count": 4,
     "metadata": {},
     "output_type": "execute_result"
    }
   ],
   "source": [
    "len(lat)"
   ]
  },
  {
   "cell_type": "markdown",
   "metadata": {},
   "source": [
    "### Convert Raw Data to DataFrame\n",
    "* Export the city data into a .csv.\n",
    "* Display the DataFrame"
   ]
  },
  {
   "cell_type": "code",
   "execution_count": 5,
   "metadata": {},
   "outputs": [],
   "source": [
    "# convert to data frame\n",
    "weather_df = pd.DataFrame({\n",
    "    \"City\": cities,\n",
    "    \"Country\": country,\n",
    "    \"Date\": date,\n",
    "    \"Latitude\": lat,\n",
    "    \"Longtitude\": lng,\n",
    "    \"Max Temperature\": temp,\n",
    "    \"Humidity\": humidity,\n",
    "    \"Cloudiness\": cloudiness,\n",
    "    \"Wind Speed\": wind_speed\n",
    "})\n",
    "\n",
    "weather_df_clean = weather_df.loc[(weather_df[\"Latitude\"] != \"NaN\") &\n",
    "                                        (weather_df[\"Longtitude\"] != \"NaN\") &\n",
    "                                        (weather_df[\"Max Temperature\"] != \"NaN\") &\n",
    "                                        (weather_df[\"Humidity\"] != \"NaN\") &\n",
    "                                       (weather_df[\"Cloudiness\"] != \"NaN\") &\n",
    "                                        (weather_df[\"Wind Speed\"] != \"NaN\") &\n",
    "                                        (weather_df[\"Date\"] != \"NaN\")&\n",
    "                                        (weather_df[\"Country\"] != \"NaN\") &\n",
    "                                        (weather_df[\"City\"] != \"NaN\")\n",
    "                                       ]\n",
    "\n",
    "# export to csv\n",
    "# City_ID,City,Cloudiness,Country,Date,Humidity,Lat,Lng,Max Temp,Wind Speed\n",
    "\n",
    "output_path = \"/Users/emilyye/BOOTCAMP WORK/upenn-phi-virt-data-09-2021-u-c/06-Python-APIs/Homework/Instructions/\"\n",
    "\n",
    "weather_df_clean.to_csv(output_path + \"weather_df_clean.csv\")\n"
   ]
  },
  {
   "cell_type": "markdown",
   "metadata": {},
   "source": [
    "## Inspect the data and remove the cities where the humidity > 100%.\n",
    "----\n",
    "Skip this step if there are no cities that have humidity > 100%. "
   ]
  },
  {
   "cell_type": "code",
   "execution_count": 6,
   "metadata": {},
   "outputs": [
    {
     "data": {
      "text/html": [
       "<div>\n",
       "<style scoped>\n",
       "    .dataframe tbody tr th:only-of-type {\n",
       "        vertical-align: middle;\n",
       "    }\n",
       "\n",
       "    .dataframe tbody tr th {\n",
       "        vertical-align: top;\n",
       "    }\n",
       "\n",
       "    .dataframe thead th {\n",
       "        text-align: right;\n",
       "    }\n",
       "</style>\n",
       "<table border=\"1\" class=\"dataframe\">\n",
       "  <thead>\n",
       "    <tr style=\"text-align: right;\">\n",
       "      <th></th>\n",
       "      <th>City</th>\n",
       "      <th>Country</th>\n",
       "      <th>Date</th>\n",
       "      <th>Latitude</th>\n",
       "      <th>Longtitude</th>\n",
       "      <th>Max Temperature</th>\n",
       "      <th>Humidity</th>\n",
       "      <th>Cloudiness</th>\n",
       "      <th>Wind Speed</th>\n",
       "    </tr>\n",
       "  </thead>\n",
       "  <tbody>\n",
       "  </tbody>\n",
       "</table>\n",
       "</div>"
      ],
      "text/plain": [
       "Empty DataFrame\n",
       "Columns: [City, Country, Date, Latitude, Longtitude, Max Temperature, Humidity, Cloudiness, Wind Speed]\n",
       "Index: []"
      ]
     },
     "execution_count": 6,
     "metadata": {},
     "output_type": "execute_result"
    }
   ],
   "source": [
    "# check to see if cities have humidity that is over 100%\n",
    "\n",
    "weather_df_clean.loc[weather_df_clean[\"Humidity\"] > 100, :]"
   ]
  },
  {
   "cell_type": "code",
   "execution_count": 7,
   "metadata": {},
   "outputs": [],
   "source": [
    "#  Get the indices of cities that have humidity over 100%.\n"
   ]
  },
  {
   "cell_type": "code",
   "execution_count": 8,
   "metadata": {},
   "outputs": [],
   "source": [
    "# Make a new DataFrame equal to the city data to drop all humidity outliers by index.\n",
    "# Passing \"inplace=False\" will make a copy of the city_data DataFrame, which we call \"clean_city_data\".\n"
   ]
  },
  {
   "cell_type": "code",
   "execution_count": null,
   "metadata": {},
   "outputs": [],
   "source": [
    "\n"
   ]
  },
  {
   "cell_type": "markdown",
   "metadata": {},
   "source": [
    "## Plotting the Data\n",
    "* Use proper labeling of the plots using plot titles (including date of analysis) and axes labels.\n",
    "* Save the plotted figures as .pngs."
   ]
  },
  {
   "cell_type": "markdown",
   "metadata": {},
   "source": [
    "## Latitude vs. Temperature Plot"
   ]
  },
  {
   "cell_type": "code",
   "execution_count": 9,
   "metadata": {
    "scrolled": true
   },
   "outputs": [
    {
     "data": {
      "image/png": "[encoded data removed]",
      "text/plain": [
       "<Figure size 432x288 with 1 Axes>"
      ]
     },
     "metadata": {
      "needs_background": "light"
     },
     "output_type": "display_data"
    }
   ],
   "source": [
    "plt.scatter(weather_df_clean[\"Latitude\"],weather_df_clean[\"Max Temperature\"])\n",
    "\n",
    "plt.title(\"Latitude vs. Max Temperature\")\n",
    "plt.xlabel(\"Latitude\")\n",
    "plt.ylabel(\"Temperature (F)\")\n",
    "\n",
    "plt.savefig(output_path + \"lat_temp.png\")"
   ]
  },
  {
   "cell_type": "markdown",
   "metadata": {},
   "source": [
    "- This code analyzes how temperature changes with latitude. As distance from the equator (0 degrees in latitude) increases, temperature tends to drop. (The drop is most pronounced when moving north in this sample)"
   ]
  },
  {
   "cell_type": "markdown",
   "metadata": {},
   "source": [
    "## Latitude vs. Humidity Plot"
   ]
  },
  {
   "cell_type": "code",
   "execution_count": 10,
   "metadata": {},
   "outputs": [
    {
     "data": {
      "image/png": "[encoded data removed]",
      "text/plain": [
       "<Figure size 432x288 with 1 Axes>"
      ]
     },
     "metadata": {
      "needs_background": "light"
     },
     "output_type": "display_data"
    }
   ],
   "source": [
    "plt.scatter(weather_df_clean[\"Latitude\"],weather_df_clean[\"Humidity\"])\n",
    "\n",
    "plt.title(\"Latitude vs. Humidity\")\n",
    "plt.xlabel(\"Latitude\")\n",
    "plt.ylabel(\"Humidity (%)\")\n",
    "\n",
    "plt.savefig(output_path + \"lat_hum.png\")"
   ]
  },
  {
   "cell_type": "markdown",
   "metadata": {},
   "source": [
    "- this plot analyzes the relationship between latitude and humidity. There does not appear to be a particularly significant directional trend between the two -- except perhaps that most cities in this random sample seem to have relatively higher (>60%) levels of humidity. "
   ]
  },
  {
   "cell_type": "markdown",
   "metadata": {},
   "source": [
    "## Latitude vs. Cloudiness Plot"
   ]
  },
  {
   "cell_type": "code",
   "execution_count": 11,
   "metadata": {},
   "outputs": [
    {
     "data": {
      "image/png": "[encoded data removed]",
      "text/plain": [
       "<Figure size 432x288 with 1 Axes>"
      ]
     },
     "metadata": {
      "needs_background": "light"
     },
     "output_type": "display_data"
    }
   ],
   "source": [
    "plt.scatter(weather_df_clean[\"Latitude\"],weather_df_clean[\"Cloudiness\"])\n",
    "\n",
    "plt.title(\"Latitude vs. Cloudiness\")\n",
    "plt.xlabel(\"Latitude\")\n",
    "plt.ylabel(\"Cloudiness (%)\")\n",
    "\n",
    "plt.savefig(output_path + \"lat_cloud.png\")"
   ]
  },
  {
   "cell_type": "markdown",
   "metadata": {},
   "source": [
    "- this plot analyzes the relationship between cloudiness and latitude. In this plot, there appear to be higher concentrations of cities at 0% and 100% humidity (compared to other levels of humidity e.g. 40%). Latitude does not appear to have much bearing on cloudiness."
   ]
  },
  {
   "cell_type": "markdown",
   "metadata": {},
   "source": [
    "## Latitude vs. Wind Speed Plot"
   ]
  },
  {
   "cell_type": "code",
   "execution_count": 12,
   "metadata": {},
   "outputs": [
    {
     "data": {
      "image/png": "[encoded data removed]",
      "text/plain": [
       "<Figure size 432x288 with 1 Axes>"
      ]
     },
     "metadata": {
      "needs_background": "light"
     },
     "output_type": "display_data"
    }
   ],
   "source": [
    "plt.scatter(weather_df_clean[\"Latitude\"],weather_df_clean[\"Wind Speed\"])\n",
    "\n",
    "plt.title(\"Latitude vs. Wind Speed\")\n",
    "plt.xlabel(\"Latitude\")\n",
    "plt.ylabel(\"Wind Speed (mph)\")\n",
    "\n",
    "plt.savefig(output_path + \"lat_wind.png\")"
   ]
  },
  {
   "cell_type": "markdown",
   "metadata": {},
   "source": [
    "- This plot analyzes the relationship between wind speed and latitude. Most cities in this plot have wind speeds below 15 mph."
   ]
  },
  {
   "cell_type": "markdown",
   "metadata": {},
   "source": [
    "## Linear Regression"
   ]
  },
  {
   "cell_type": "code",
   "execution_count": 13,
   "metadata": {},
   "outputs": [],
   "source": [
    "nh = weather_df_clean[weather_df_clean[\"Latitude\"] >= 0]\n",
    "sh = weather_df_clean[weather_df_clean[\"Latitude\"] < 0]"
   ]
  },
  {
   "cell_type": "markdown",
   "metadata": {},
   "source": [
    "####  Northern Hemisphere - Max Temp vs. Latitude Linear Regression"
   ]
  },
  {
   "cell_type": "code",
   "execution_count": 14,
   "metadata": {},
   "outputs": [
    {
     "name": "stdout",
     "output_type": "stream",
     "text": [
      "-0.8637718447346319\n"
     ]
    },
    {
     "data": {
      "image/png": "[encoded data removed]",
      "text/plain": [
       "<Figure size 432x288 with 1 Axes>"
      ]
     },
     "metadata": {
      "needs_background": "light"
     },
     "output_type": "display_data"
    }
   ],
   "source": [
    "nh_temp = nh[\"Max Temperature\"].astype(\"float\")\n",
    "nh_lat = nh[\"Latitude\"].astype(\"float\")\n",
    "\n",
    "(slope, intercept, rvalue, pvalue, stderr) = linregress(nh_lat, nh_temp)\n",
    "nh_temp_lat_regress = nh_lat*slope+intercept\n",
    "\n",
    "print(rvalue)\n",
    "\n",
    "plt.scatter(nh_lat, nh_temp)\n",
    "plt.plot(nh_lat, nh_temp_lat_regress, \"r-\")\n",
    "\n",
    "plt.xlabel(\"Latitude\")\n",
    "plt.ylabel(\"Maximum Temperature\")\n",
    "plt.title(\"Latitude vs. Maximum Temperature in the Northern Hemisphere\")\n",
    "\n",
    "plt.savefig(output_path + \"nh_temp_lat.png\")"
   ]
  },
  {
   "cell_type": "markdown",
   "metadata": {},
   "source": [
    "####  Southern Hemisphere - Max Temp vs. Latitude Linear Regression"
   ]
  },
  {
   "cell_type": "code",
   "execution_count": 15,
   "metadata": {},
   "outputs": [
    {
     "name": "stdout",
     "output_type": "stream",
     "text": [
      "0.7334919335842328\n"
     ]
    },
    {
     "data": {
      "image/png": "[encoded data removed]",
      "text/plain": [
       "<Figure size 432x288 with 1 Axes>"
      ]
     },
     "metadata": {
      "needs_background": "light"
     },
     "output_type": "display_data"
    }
   ],
   "source": [
    "sh_temp = sh[\"Max Temperature\"].astype(\"float\")\n",
    "sh_lat = sh[\"Latitude\"].astype(\"float\")\n",
    "\n",
    "(slope, intercept, rvalue, pvalue, stderr) = linregress(sh_lat, sh_temp)\n",
    "sh_temp_lat_regress = sh_lat*slope+intercept\n",
    "\n",
    "print(rvalue)\n",
    "\n",
    "plt.scatter(sh_lat, sh_temp)\n",
    "plt.plot(sh_lat, sh_temp_lat_regress, \"r-\")\n",
    "\n",
    "plt.xlabel(\"Latitude\")\n",
    "plt.ylabel(\"Maximum Temperature\")\n",
    "plt.title(\"Latitude vs. Maximum Temperature in the Southern Hemisphere\")\n",
    "\n",
    "plt.savefig(output_path + \"sh_temp_lat.png\")"
   ]
  },
  {
   "cell_type": "markdown",
   "metadata": {},
   "source": [
    "# Analysis of Max Temp vs. Latitude across Hemispheres\n",
    "- The linear regression in both plots above illustrates the relationship between maximum temperature and latitude. \n",
    "- As distance from the equater increases (absolute value of latitude increases), maximum temperature tends to drop\n",
    "- in this sample, the correlation between the two variables appears to be stronger for cities in the northern hemisphere"
   ]
  },
  {
   "cell_type": "markdown",
   "metadata": {},
   "source": [
    "####  Northern Hemisphere - Humidity (%) vs. Latitude Linear Regression"
   ]
  },
  {
   "cell_type": "code",
   "execution_count": 16,
   "metadata": {},
   "outputs": [
    {
     "name": "stdout",
     "output_type": "stream",
     "text": [
      "0.2496967479978703\n"
     ]
    },
    {
     "data": {
      "image/png": "[encoded data removed]",
      "text/plain": [
       "<Figure size 432x288 with 1 Axes>"
      ]
     },
     "metadata": {
      "needs_background": "light"
     },
     "output_type": "display_data"
    }
   ],
   "source": [
    "nh_hum = nh[\"Humidity\"].astype(\"float\")\n",
    "\n",
    "(slope, intercept, rvalue, pvalue, stderr) = linregress(nh_lat, nh_hum)\n",
    "nh_hum_lat_regress = nh_lat*slope+intercept\n",
    "\n",
    "print(rvalue)\n",
    "\n",
    "plt.scatter(nh_lat, nh_hum)\n",
    "plt.plot(nh_lat, nh_hum_lat_regress, \"r-\")\n",
    "\n",
    "plt.xlabel(\"Latitude\")\n",
    "plt.ylabel(\"Humidity\")\n",
    "plt.title(\"Latitude vs. Humidity in the Northern Hemisphere\")\n",
    "\n",
    "plt.savefig(output_path + \"nh_hum_lat.png\")"
   ]
  },
  {
   "cell_type": "markdown",
   "metadata": {},
   "source": [
    "####  Southern Hemisphere - Humidity (%) vs. Latitude Linear Regression"
   ]
  },
  {
   "cell_type": "code",
   "execution_count": 17,
   "metadata": {},
   "outputs": [
    {
     "name": "stdout",
     "output_type": "stream",
     "text": [
      "0.1347406668809368\n"
     ]
    },
    {
     "data": {
      "image/png": "[encoded data removed]",
      "text/plain": [
       "<Figure size 432x288 with 1 Axes>"
      ]
     },
     "metadata": {
      "needs_background": "light"
     },
     "output_type": "display_data"
    }
   ],
   "source": [
    "sh_hum = sh[\"Humidity\"].astype(\"float\")\n",
    "\n",
    "(slope, intercept, rvalue, pvalue, stderr) = linregress(sh_lat, sh_hum)\n",
    "sh_hum_lat_regress = sh_lat*slope+intercept\n",
    "\n",
    "print(rvalue)\n",
    "\n",
    "plt.scatter(sh_lat, sh_hum)\n",
    "plt.plot(sh_lat, sh_hum_lat_regress, \"r-\")\n",
    "\n",
    "plt.xlabel(\"Latitude\")\n",
    "plt.ylabel(\"Humidity\")\n",
    "plt.title(\"Latitude vs. Humidity in the Southern Hemisphere\")\n",
    "\n",
    "plt.savefig(output_path + \"sh_hum_lat.png\")"
   ]
  },
  {
   "cell_type": "markdown",
   "metadata": {},
   "source": [
    "# Analysis of Humidity vs. Latitude across Hemispheres\n",
    "- the above two plots illustrate the relationship between humidity (%) and latitude.\n",
    "- there appears to be a relatively weaker relationship between latitude and humidity here (wide spread of data points around the linear regression best fit line)\n",
    "- As distance from the equater decreases (closer to 0 degrees in latitude), humidity increases slightly in the Southern Hemisphere\n",
    "- As distance from the equater decreases (closer to 0 degrees in latitude), humidity decreases slightly in the Northern Hemisphere"
   ]
  },
  {
   "cell_type": "markdown",
   "metadata": {},
   "source": [
    "####  Northern Hemisphere - Cloudiness (%) vs. Latitude Linear Regression"
   ]
  },
  {
   "cell_type": "code",
   "execution_count": 18,
   "metadata": {},
   "outputs": [
    {
     "name": "stdout",
     "output_type": "stream",
     "text": [
      "0.1613469890383798\n"
     ]
    },
    {
     "data": {
      "image/png": "[encoded data removed]",
      "text/plain": [
       "<Figure size 432x288 with 1 Axes>"
      ]
     },
     "metadata": {
      "needs_background": "light"
     },
     "output_type": "display_data"
    }
   ],
   "source": [
    "nh_cloud = nh[\"Cloudiness\"].astype(\"float\")\n",
    "\n",
    "(slope, intercept, rvalue, pvalue, stderr) = linregress(nh_lat, nh_cloud)\n",
    "nh_cloud_lat_regress = nh_lat*slope+intercept\n",
    "\n",
    "print(rvalue)\n",
    "\n",
    "plt.scatter(nh_lat, nh_cloud)\n",
    "plt.plot(nh_lat, nh_cloud_lat_regress, \"r-\")\n",
    "\n",
    "plt.xlabel(\"Latitude\")\n",
    "plt.ylabel(\"Cloudiness (%)\")\n",
    "plt.title(\"Latitude vs. Cloudiness (%) in the Northern Hemisphere\")\n",
    "\n",
    "plt.savefig(output_path + \"nh_cloud_lat.png\")"
   ]
  },
  {
   "cell_type": "markdown",
   "metadata": {},
   "source": [
    "####  Southern Hemisphere - Cloudiness (%) vs. Latitude Linear Regression"
   ]
  },
  {
   "cell_type": "code",
   "execution_count": 19,
   "metadata": {},
   "outputs": [
    {
     "name": "stdout",
     "output_type": "stream",
     "text": [
      "0.16424939100257763\n"
     ]
    },
    {
     "data": {
      "image/png": "[encoded data removed]",
      "text/plain": [
       "<Figure size 432x288 with 1 Axes>"
      ]
     },
     "metadata": {
      "needs_background": "light"
     },
     "output_type": "display_data"
    }
   ],
   "source": [
    "sh_cloud = sh[\"Cloudiness\"].astype(\"float\")\n",
    "\n",
    "(slope, intercept, rvalue, pvalue, stderr) = linregress(sh_lat, sh_cloud)\n",
    "sh_cloud_lat_regress = sh_lat*slope+intercept\n",
    "\n",
    "print(rvalue)\n",
    "\n",
    "plt.scatter(sh_lat, sh_cloud)\n",
    "plt.plot(sh_lat, sh_cloud_lat_regress, \"r-\")\n",
    "\n",
    "plt.xlabel(\"Latitude\")\n",
    "plt.ylabel(\"Cloudiness (%)\")\n",
    "plt.title(\"Latitude vs. Cloudiness (%) in the Southern Hemisphere\")\n",
    "\n",
    "plt.savefig(output_path + \"sh_cloud_lat.png\")"
   ]
  },
  {
   "cell_type": "markdown",
   "metadata": {},
   "source": [
    "# Analysis of Cloudiness vs. Latitude across the hemispheres\n",
    "- These two plots model the relationship between % cloudiness and latitude across the hemispheres. \n",
    "- There does not appear to a very strong correlation between % cloudiness and latitude in either the northern or southern hemisphere (As latitude increases, % cloudiness varies widely)"
   ]
  },
  {
   "cell_type": "markdown",
   "metadata": {},
   "source": [
    "####  Northern Hemisphere - Wind Speed (mph) vs. Latitude Linear Regression"
   ]
  },
  {
   "cell_type": "code",
   "execution_count": 23,
   "metadata": {},
   "outputs": [
    {
     "name": "stdout",
     "output_type": "stream",
     "text": [
      "0.17688431379806513\n"
     ]
    },
    {
     "data": {
      "image/png": "[encoded data removed]",
      "text/plain": [
       "<Figure size 432x288 with 1 Axes>"
      ]
     },
     "metadata": {
      "needs_background": "light"
     },
     "output_type": "display_data"
    }
   ],
   "source": [
    "nh_wind = nh[\"Wind Speed\"].astype(\"float\")\n",
    "\n",
    "(slope, intercept, rvalue, pvalue, stderr) = linregress(nh_lat, nh_wind)\n",
    "nh_wind_lat_regress = nh_lat*slope+intercept\n",
    "\n",
    "print(rvalue)\n",
    "\n",
    "plt.scatter(nh_lat, nh_wind)\n",
    "plt.plot(nh_lat, nh_wind_lat_regress, \"r-\")\n",
    "\n",
    "plt.xlabel(\"Latitude\")\n",
    "plt.ylabel(\"Wind Speed (mph)\")\n",
    "plt.title(\"Latitude vs. Wind Speed (mph) in the Nothern Hemisphere\")\n",
    "\n",
    "plt.savefig(output_path + \"nh_ws_lat.png\")"
   ]
  },
  {
   "cell_type": "markdown",
   "metadata": {},
   "source": [
    "####  Southern Hemisphere - Wind Speed (mph) vs. Latitude Linear Regression"
   ]
  },
  {
   "cell_type": "code",
   "execution_count": 22,
   "metadata": {},
   "outputs": [
    {
     "name": "stdout",
     "output_type": "stream",
     "text": [
      "-0.18405830501131357\n"
     ]
    },
    {
     "data": {
      "image/png": "[encoded data removed]",
      "text/plain": [
       "<Figure size 432x288 with 1 Axes>"
      ]
     },
     "metadata": {
      "needs_background": "light"
     },
     "output_type": "display_data"
    }
   ],
   "source": [
    "sh_wind = sh[\"Wind Speed\"].astype(\"float\")\n",
    "\n",
    "(slope, intercept, rvalue, pvalue, stderr) = linregress(sh_lat, sh_wind)\n",
    "sh_wind_lat_regress = sh_lat*slope+intercept\n",
    "\n",
    "print(rvalue)\n",
    "\n",
    "plt.scatter(sh_lat, sh_wind)\n",
    "plt.plot(sh_lat, sh_wind_lat_regress, \"r-\")\n",
    "\n",
    "plt.xlabel(\"Latitude\")\n",
    "plt.ylabel(\"Wind Speed (mph)\")\n",
    "plt.title(\"Latitude vs. Wind Speed (mph) in the Southern Hemisphere\")\n",
    "\n",
    "plt.savefig(output_path + \"sh_ws_lat.png\")"
   ]
  },
  {
   "cell_type": "markdown",
   "metadata": {},
   "source": [
    "# Analysis of Wind Speed vs. Latitude across hemispheres\n",
    "- these pair of plots show the relationship between wind speed and latitude. \n",
    "- the first of the pair indicates that, in the northern hemisphere, as distance from the equator increases, wind speed tends to pick up slightly\n",
    "- the second of the pair indicates that as distance from the equator increases, wind speed tends to pick up as well\n",
    "- That said, the relationship between the two factors in both plots appears fairly weak."
   ]
  },
  {
   "cell_type": "markdown",
   "metadata": {},
   "source": [
    "# 3 Observable Trends\n",
    "- There appears to be a strong trend between maximum temperature and latitude. As distance from the equator increases, maximum temperature tends to drop. This seems reasonable since the areas near the equator - relative to areas in the poles - are closer to the sun.\n",
    "- On the other hand, the relationship between latitude and other weather variables - cloudiness, wind speed, etc. - is much weaker. This may be because other factors not measured by latitude or proximity/orientation to the sun affect cloud formation, winds, etc. It could be interesting to test those other factors.\n",
    "- Most cities in this sample appear to have wind speeds below 15mph. That seems to be a reasonable constant given that very high values would make for less hospitable areas to live/form cities. (Given that this data was pulled from OpenWeather's current weather API, it is specific to this time and season; it may be interesting to see if/how wind speed values have changed historically, or how they may change going forward.)"
   ]
  },
  {
   "cell_type": "code",
   "execution_count": null,
   "metadata": {},
   "outputs": [],
   "source": []
  }
 ],
 "metadata": {
  "anaconda-cloud": {},
  "kernel_info": {
   "name": "python3"
  },
  "kernelspec": {
   "display_name": "Python 3.8.11 64-bit ('PythonData': conda)",
   "language": "python",
   "name": "python3811jvsc74a57bd0728b04c98466aa82948ab53e051679ddba7efd5cd254f67ce973a00128db32fe"
  },
  "language_info": {
   "codemirror_mode": {
    "name": "ipython",
    "version": 3
   },
   "file_extension": ".py",
   "mimetype": "text/x-python",
   "name": "python",
   "nbconvert_exporter": "python",
   "pygments_lexer": "ipython3",
   "version": "3.8.11"
  },
  "latex_envs": {
   "LaTeX_envs_menu_present": true,
   "autoclose": false,
   "autocomplete": true,
   "bibliofile": "biblio.bib",
   "cite_by": "apalike",
   "current_citInitial": 1,
   "eqLabelWithNumbers": true,
   "eqNumInitial": 1,
   "hotkeys": {
    "equation": "Ctrl-E",
    "itemize": "Ctrl-I"
   },
   "labels_anchors": false,
   "latex_user_defs": false,
   "report_style_numbering": false,
   "user_envs_cfg": false
  },
  "nteract": {
   "version": "0.12.3"
  }
 },
 "nbformat": 4,
 "nbformat_minor": 2
}
